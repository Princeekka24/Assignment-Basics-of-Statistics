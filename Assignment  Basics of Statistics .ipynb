{
 "cells": [
  {
   "cell_type": "markdown",
   "id": "c0efabde",
   "metadata": {},
   "source": [
    "# 1. Explain the different types of data (qualitative and quantitative) and provide examples of each. Discuss nominal, ordinal, interval, and ratio scales."
   ]
  },
  {
   "cell_type": "markdown",
   "id": "adecbf6a",
   "metadata": {},
   "source": [
    "Qualitative Data: Descriptive data that cannot be measured but can be categorized based on traits and characteristics.\n",
    "Example: Eye color (brown, blue, green).\n",
    "\n",
    "Quantitative Data: Numerical data that can be measured or counted.\n",
    "Example: Number of students in a class (45).\n",
    "\n",
    "Nominal Scale: Data classified into distinct categories with no inherent order.\n",
    "Example: Types of fruits (apple, banana, orange).\n",
    "\n",
    "Ordinal Scale: Data categorized with a meaningful order, but the intervals between categories are not defined.\n",
    "Example: Satisfaction rating (satisfied, neutral, unsatisfied).\n",
    "\n",
    "Interval Scale: Data with meaningful intervals between values but no true zero point.\n",
    "Example: Temperature in Celsius (0°C does not indicate the absence of temperature).\n",
    "\n",
    "Ratio Scale: Data with meaningful intervals and a true zero point, allowing for comparison of absolute magnitudes.\n",
    "Example: Weight (0 kg means no weight)."
   ]
  },
  {
   "cell_type": "markdown",
   "id": "1c271902",
   "metadata": {},
   "source": [
    "# 2. What are the measures of central tendency, and when should you use each? Discuss the mean, median, and mode with examples and situations where each is appropriate."
   ]
  },
  {
   "cell_type": "markdown",
   "id": "dcd36f6b",
   "metadata": {},
   "source": [
    "Mean: The average of a dataset, useful when data is symmetrically distributed without extreme outliers.\n",
    "Example: Average age of students in a class.\n",
    "\n",
    "Median: The middle value in an ordered dataset, appropriate when data is skewed or has outliers.\n",
    "Example: Median income in a population where some individuals are extremely wealthy.\n",
    "\n",
    "Mode: The most frequent value in the dataset, useful when identifying the most common category.\n",
    "Example: Mode of shoe sizes in a group of people."
   ]
  },
  {
   "cell_type": "markdown",
   "id": "a8b73a8a",
   "metadata": {},
   "source": [
    "# 3. Explain the concept of dispersion. How do variance and standard deviation measure the spread of data?"
   ]
  },
  {
   "cell_type": "markdown",
   "id": "1ab9bc28",
   "metadata": {},
   "source": [
    "Dispersion refers to the extent to which values in a dataset vary around the central tendency.\n",
    "\n",
    "Variance: Measures the average squared deviations from the mean, giving an idea of how data points spread out.\n",
    "\n",
    "Standard Deviation: The square root of variance, providing a more intuitive measure of spread in the same units as the data.\n",
    "\n",
    "Example: For a dataset of exam scores, a high standard deviation means the scores vary greatly, while a low standard deviation means most students scored similarly.\n",
    "\n"
   ]
  },
  {
   "cell_type": "markdown",
   "id": "bb3cca64",
   "metadata": {},
   "source": [
    "# 4. What is a box plot, and what can it tell you about the distribution of data?"
   ]
  },
  {
   "cell_type": "markdown",
   "id": "4a4a09df",
   "metadata": {},
   "source": [
    "A box plot (or whisker plot) visually represents the distribution of data based on five summary statistics: minimum, first quartile (Q1), median, third quartile (Q3), and maximum. It shows the spread, central value, and potential outliers in the dataset.\n",
    "\n",
    "Interpretation:\n",
    "\n",
    "The box represents the interquartile range (IQR), showing the middle 50% of the data.\n",
    "The line inside the box is the median.\n",
    "Whiskers extend to the minimum and maximum values within 1.5 times the IQR, with any points outside these considered outliers."
   ]
  },
  {
   "cell_type": "markdown",
   "id": "a74cddfa",
   "metadata": {},
   "source": [
    "# 5. Discuss the role of random sampling in making inferences about populations."
   ]
  },
  {
   "cell_type": "markdown",
   "id": "a2548b14",
   "metadata": {},
   "source": [
    "Random sampling ensures that each member of a population has an equal chance of being selected for the sample. This randomness helps avoid bias and allows for the generalization of findings from the sample to the entire population, enabling more accurate and reliable inferences about the population's characteristics.\n",
    "\n",
    "Example: Surveying 500 randomly selected voters to infer the voting preferences of an entire country's population."
   ]
  },
  {
   "cell_type": "markdown",
   "id": "08f87cdf",
   "metadata": {},
   "source": [
    "# 6. Explain the concept of skewness and its types. How does skewness affect the interpretation of data?"
   ]
  },
  {
   "cell_type": "markdown",
   "id": "03d9421a",
   "metadata": {},
   "source": [
    "Skewness measures the asymmetry of a data distribution. It tells us whether the data tail extends more to the right (positive skew) or left (negative skew).\n",
    "\n",
    "Positive Skew (Right Skew): The tail is on the right side, and the mean is greater than the median.\n",
    "Example: Income distribution, where a few individuals have very high incomes.\n",
    "\n",
    "Negative Skew (Left Skew): The tail is on the left side, and the mean is less than the median.\n",
    "Example: Age at retirement, where most people retire around 65, but a few retire much earlier.\n",
    "\n",
    "Skewness affects interpretation by indicating whether the mean is pulled away from the median, which can mislead conclusions about the central tendency."
   ]
  },
  {
   "cell_type": "markdown",
   "id": "3de36db1",
   "metadata": {},
   "source": [
    "# 7. What is the interquartile range (IQR), and how is it used to detect outliers?"
   ]
  },
  {
   "cell_type": "markdown",
   "id": "cc9cf344",
   "metadata": {},
   "source": [
    "The Interquartile Range (IQR) is the difference between the first quartile (Q1) and the third quartile (Q3), capturing the middle 50% of the data.\n",
    "\n",
    "IQR = Q3 - Q1\n",
    "To detect outliers, any data point below Q1 - 1.5(IQR) or above Q3 + 1.5(IQR) is considered an outlier."
   ]
  },
  {
   "cell_type": "markdown",
   "id": "185b3a74",
   "metadata": {},
   "source": [
    "# 8. Discuss the conditions under which the binomial distribution is used."
   ]
  },
  {
   "cell_type": "markdown",
   "id": "a0c8b37e",
   "metadata": {},
   "source": [
    "The binomial distribution applies when:\n",
    "\n",
    "There are a fixed number of n independent trials.\n",
    "Each trial has only two possible outcomes (success or failure).\n",
    "The probability of success (p) remains constant across trials.\n",
    "Example: Flipping a coin 10 times and counting the number of heads."
   ]
  },
  {
   "cell_type": "markdown",
   "id": "9f50de45",
   "metadata": {},
   "source": [
    "# 9. Explain the properties of the normal distribution and the empirical rule (68-95-99.7 rule)."
   ]
  },
  {
   "cell_type": "markdown",
   "id": "3f746c58",
   "metadata": {},
   "source": [
    "The normal distribution is a continuous probability distribution that is symmetric and bell-shaped.\n",
    "\n",
    "Mean = Median = Mode.\n",
    "The curve is symmetric around the mean.\n",
    "Most of the data lies close to the mean.\n",
    "The Empirical Rule states that:\n",
    "\n",
    "68% of data falls within 1 standard deviation of the mean.\n",
    "95% falls within 2 standard deviations.\n",
    "99.7% falls within 3 standard deviations.\n"
   ]
  },
  {
   "cell_type": "markdown",
   "id": "194eaf6a",
   "metadata": {},
   "source": [
    "# 10. Provide a real-life example of a Poisson process and calculate the probability for a specific event."
   ]
  },
  {
   "cell_type": "markdown",
   "id": "8a5537f8",
   "metadata": {},
   "source": [
    "Poisson Process Example: The number of emails received per hour.\n",
    "\n",
    "Suppose on average you receive 5 emails per hour, and you want to find the probability of receiving exactly 3 emails in one hour. Using the Poisson formula:"
   ]
  },
  {
   "cell_type": "code",
   "execution_count": 3,
   "id": "88546c2b",
   "metadata": {},
   "outputs": [
    {
     "data": {
      "text/plain": [
       "0.14037389581428056"
      ]
     },
     "execution_count": 3,
     "metadata": {},
     "output_type": "execute_result"
    }
   ],
   "source": [
    "import math\n",
    "\n",
    "# Given values\n",
    "lambd = 5  # average number of events (λ)\n",
    "k = 3  # number of occurrences\n",
    "\n",
    "# Poisson formula: P(X = k) = (e^(-λ) * λ^k) / k!\n",
    "probability = (math.exp(-lambd) * lambd**k) / math.factorial(k)\n",
    "\n",
    "probability"
   ]
  },
  {
   "cell_type": "markdown",
   "id": "e9b4d451",
   "metadata": {},
   "source": [
    "There is a 14.04% chance of receiving exactly 3 emails in an hour."
   ]
  },
  {
   "cell_type": "markdown",
   "id": "bd2bb9c3",
   "metadata": {},
   "source": [
    "# 11. Explain what a random variable is and differentiate between discrete and continuous random variables."
   ]
  },
  {
   "cell_type": "markdown",
   "id": "0405d47a",
   "metadata": {},
   "source": [
    "A random variable is a variable that takes on different numerical outcomes, determined by a random process.\n",
    "\n",
    "Discrete Random Variable: Takes on a countable number of values.\n",
    "Example: Number of students in a classroom.\n",
    "\n",
    "Continuous Random Variable: Takes on an infinite number of values within a range.\n",
    "Example: Height of students."
   ]
  },
  {
   "cell_type": "markdown",
   "id": "a17e1745",
   "metadata": {},
   "source": [
    "# 12. Provide an example dataset, calculate both covariance and correlation, and interpret the results."
   ]
  },
  {
   "cell_type": "markdown",
   "id": "f0e0b848",
   "metadata": {},
   "source": [
    "Example Dataset:"
   ]
  },
  {
   "cell_type": "code",
   "execution_count": 5,
   "id": "0c692808",
   "metadata": {},
   "outputs": [
    {
     "data": {
      "text/plain": [
       "(4.0, 0.9999999999999998)"
      ]
     },
     "execution_count": 5,
     "metadata": {},
     "output_type": "execute_result"
    }
   ],
   "source": [
    "import numpy as np\n",
    "\n",
    "# Example dataset\n",
    "X = [1, 2, 3, 4, 5]\n",
    "Y = [2, 4, 6, 8, 10]\n",
    "\n",
    "# Mean of X and Y\n",
    "mean_X = np.mean(X)\n",
    "mean_Y = np.mean(Y)\n",
    "\n",
    "# Covariance formula: Cov(X, Y) = sum((X_i - mean_X) * (Y_i - mean_Y)) / n\n",
    "covariance = sum((x - mean_X) * (y - mean_Y) for x, y in zip(X, Y)) / len(X)\n",
    "\n",
    "# Standard deviations of X and Y\n",
    "std_X = np.std(X, ddof=0)\n",
    "std_Y = np.std(Y, ddof=0)\n",
    "\n",
    "# Correlation formula: Corr(X, Y) = Cov(X, Y) / (std_X * std_Y)\n",
    "correlation = covariance / (std_X * std_Y)\n",
    "\n",
    "covariance, correlation"
   ]
  },
  {
   "cell_type": "code",
   "execution_count": 6,
   "id": "48d8be28",
   "metadata": {},
   "outputs": [
    {
     "data": {
      "text/plain": [
       "('Covariance = 4.0', 'Correlation = 0.9999999999999998')"
      ]
     },
     "execution_count": 6,
     "metadata": {},
     "output_type": "execute_result"
    }
   ],
   "source": [
    "# Output by particular names\n",
    "covariance_answer = f\"Covariance = {covariance}\"\n",
    "correlation_answer = f\"Correlation = {correlation}\"\n",
    "\n",
    "covariance_answer, correlation_answer\n"
   ]
  },
  {
   "cell_type": "markdown",
   "id": "5a5352cc",
   "metadata": {},
   "source": [
    "Interpretation: A covariance of 5 suggests that as 𝑋 increases, Y tends to increase as well. A correlation of 1 indicates a strong linear relationship between the two variables."
   ]
  }
 ],
 "metadata": {
  "kernelspec": {
   "display_name": "Python 3 (ipykernel)",
   "language": "python",
   "name": "python3"
  },
  "language_info": {
   "codemirror_mode": {
    "name": "ipython",
    "version": 3
   },
   "file_extension": ".py",
   "mimetype": "text/x-python",
   "name": "python",
   "nbconvert_exporter": "python",
   "pygments_lexer": "ipython3",
   "version": "3.11.3"
  }
 },
 "nbformat": 4,
 "nbformat_minor": 5
}
